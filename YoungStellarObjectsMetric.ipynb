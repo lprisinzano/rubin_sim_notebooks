{
 "cells": [
  {
   "cell_type": "code",
   "execution_count": null,
   "id": "721847b4-b8d1-4fc6-93a8-81b5fc1f656c",
   "metadata": {},
   "outputs": [
    {
     "name": "stdout",
     "output_type": "stream",
     "text": [
      "Healpix slicer using NSIDE=64, approximate resolution 54.967783 arcminutes\n",
      "Querying database observations with no constraint for columns ['rotSkyPos', 'fieldDec', 'filter', 'fiveSigmaDepth', 'fieldRA'].\n",
      "Found 2086980 visits\n",
      "Running:  ['_sims_maf_fbs_2_0_baseline_baseline_v2_0_10yrs_young_stars_HEAL']\n"
     ]
    },
    {
     "name": "stderr",
     "output_type": "stream",
     "text": [
      "/data0/sw/lsst_stack-2021.10.13/rubin_sim/rubin_sim/maf/maps/dustMap.py:25: UserWarning: Slicer value of nside 64 different from map value 128, using slicer value\n",
      "  warnings.warn(f\"Slicer value of nside {slicePoints['nside']} different \"\n"
     ]
    },
    {
     "name": "stdout",
     "output_type": "stream",
     "text": [
      "Completed metric generation.\n",
      "Running reduce methods.\n",
      "Running summary statistics.\n",
      "Completed.\n",
      "Plotting figures with \"\" constraint now.\n"
     ]
    },
    {
     "name": "stderr",
     "output_type": "stream",
     "text": [
      "0.0 180.0 -180.0 180.0\n",
      "/data0/sw/lsst_stack-2021.10.13/rubin_sim/rubin_sim/maf/utils/mafUtils.py:99: UserWarning: Optimal bin calculation tried to make 5945 bins, returning 200\n",
      "  warnings.warn('Optimal bin calculation tried to make %.0f bins, returning %i'%(nbins, nbinMax))\n"
     ]
    },
    {
     "name": "stdout",
     "output_type": "stream",
     "text": [
      "Plotting complete.\n",
      "/sims_maf/fbs_2.0/baseline/baseline_v2.0_10yrs young_stars {'Sum': 9299972.566515543}\n",
      "Healpix slicer using NSIDE=64, approximate resolution 54.967783 arcminutes\n",
      "Querying database SummaryAllProps with no constraint for columns ['rotSkyPos', 'fieldDec', 'filter', 'fiveSigmaDepth', 'fieldRA'].\n",
      "Found 2223753 visits\n",
      "Running:  ['_sims_maf_fbs_1_5_footprints_footprint_gp_smoothv1_5_10yrs_young_stars_HEAL']\n"
     ]
    },
    {
     "name": "stderr",
     "output_type": "stream",
     "text": [
      "/data0/sw/lsst_stack-2021.10.13/rubin_sim/rubin_sim/maf/maps/dustMap.py:25: UserWarning: Slicer value of nside 64 different from map value 128, using slicer value\n",
      "  warnings.warn(f\"Slicer value of nside {slicePoints['nside']} different \"\n",
      "0.0 180.0 -180.0 180.0\n"
     ]
    },
    {
     "name": "stdout",
     "output_type": "stream",
     "text": [
      "Completed metric generation.\n",
      "Running reduce methods.\n",
      "Running summary statistics.\n",
      "Completed.\n",
      "Plotting figures with \"\" constraint now.\n"
     ]
    },
    {
     "name": "stderr",
     "output_type": "stream",
     "text": [
      "/data0/sw/lsst_stack-2021.10.13/rubin_sim/rubin_sim/maf/utils/mafUtils.py:99: UserWarning: Optimal bin calculation tried to make 4264 bins, returning 200\n",
      "  warnings.warn('Optimal bin calculation tried to make %.0f bins, returning %i'%(nbins, nbinMax))\n"
     ]
    },
    {
     "name": "stdout",
     "output_type": "stream",
     "text": [
      "Plotting complete.\n",
      "/sims_maf/fbs_1.5/footprints/footprint_gp_smoothv1.5_10yrs young_stars {'Sum': 10119814.752932446}\n",
      "Healpix slicer using NSIDE=64, approximate resolution 54.967783 arcminutes\n",
      "Querying database SummaryAllProps with no constraint for columns ['rotSkyPos', 'fieldDec', 'filter', 'fiveSigmaDepth', 'fieldRA'].\n",
      "Found 2045493 visits\n",
      "Running:  ['_sims_maf_fbs_1_7_baseline_baseline_nexp2_v1_7_10yrs_young_stars_HEAL']\n"
     ]
    },
    {
     "name": "stderr",
     "output_type": "stream",
     "text": [
      "/data0/sw/lsst_stack-2021.10.13/rubin_sim/rubin_sim/maf/maps/dustMap.py:25: UserWarning: Slicer value of nside 64 different from map value 128, using slicer value\n",
      "  warnings.warn(f\"Slicer value of nside {slicePoints['nside']} different \"\n"
     ]
    },
    {
     "name": "stdout",
     "output_type": "stream",
     "text": [
      "Completed metric generation.\n",
      "Running reduce methods.\n",
      "Running summary statistics.\n",
      "Completed.\n",
      "Plotting figures with \"\" constraint now.\n"
     ]
    },
    {
     "name": "stderr",
     "output_type": "stream",
     "text": [
      "0.0 180.0 -180.0 180.0\n",
      "/data0/sw/lsst_stack-2021.10.13/rubin_sim/rubin_sim/maf/utils/mafUtils.py:99: UserWarning: Optimal bin calculation tried to make 2200 bins, returning 200\n",
      "  warnings.warn('Optimal bin calculation tried to make %.0f bins, returning %i'%(nbins, nbinMax))\n"
     ]
    },
    {
     "name": "stdout",
     "output_type": "stream",
     "text": [
      "Plotting complete.\n",
      "/sims_maf/fbs_1.7/baseline/baseline_nexp2_v1.7_10yrs young_stars {'Sum': 7670427.970327284}\n",
      "Healpix slicer using NSIDE=64, approximate resolution 54.967783 arcminutes\n",
      "Querying database observations with no constraint for columns ['rotSkyPos', 'fieldDec', 'filter', 'fiveSigmaDepth', 'fieldRA'].\n",
      "Found 2084391 visits\n",
      "Running:  ['_sims_maf_fbs_2_0_vary_gp_vary_gp_gpfrac1_00_v2_0_10yrs_young_stars_HEAL']\n"
     ]
    },
    {
     "name": "stderr",
     "output_type": "stream",
     "text": [
      "/data0/sw/lsst_stack-2021.10.13/rubin_sim/rubin_sim/maf/maps/dustMap.py:25: UserWarning: Slicer value of nside 64 different from map value 128, using slicer value\n",
      "  warnings.warn(f\"Slicer value of nside {slicePoints['nside']} different \"\n"
     ]
    }
   ],
   "source": [
    "import YoungStellarObjectsMetric\n",
    "YoungStellarObjectsMetric.run_examples_datalab()"
   ]
  },
  {
   "cell_type": "code",
   "execution_count": null,
   "id": "ee68489a-aaed-42ff-a3b2-c65bcbb4832a",
   "metadata": {},
   "outputs": [],
   "source": []
  }
 ],
 "metadata": {
  "kernelspec": {
   "display_name": "LSST-2021.10.13 Py3",
   "language": "python",
   "name": "lsst_sims_maf-2021.10.13"
  },
  "language_info": {
   "codemirror_mode": {
    "name": "ipython",
    "version": 3
   },
   "file_extension": ".py",
   "mimetype": "text/x-python",
   "name": "python",
   "nbconvert_exporter": "python",
   "pygments_lexer": "ipython3",
   "version": "3.8.8"
  }
 },
 "nbformat": 4,
 "nbformat_minor": 5
}
